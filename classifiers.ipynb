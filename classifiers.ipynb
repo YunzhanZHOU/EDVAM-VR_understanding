{
  "nbformat": 4,
  "nbformat_minor": 0,
  "metadata": {
    "colab": {
      "name": "classifiers.ipynb",
      "provenance": [],
      "collapsed_sections": []
    },
    "kernelspec": {
      "name": "python3",
      "display_name": "Python 3"
    },
    "language_info": {
      "name": "python"
    },
    "accelerator": "GPU"
  },
  "cells": [
    {
      "cell_type": "code",
      "metadata": {
        "id": "K6BIYuB53lKo"
      },
      "source": [
        "!pip install livelossplot --quiet"
      ],
      "execution_count": 1,
      "outputs": []
    },
    {
      "cell_type": "code",
      "metadata": {
        "id": "_aZW3ME5Xyar"
      },
      "source": [
        "import numpy as np\n",
        "import torch\n",
        "from torch.utils.data import Dataset\n",
        "import torch.nn as nn\n",
        "import torch.nn.functional as F\n",
        "import torch.optim as optim\n",
        "from torch.optim import lr_scheduler\n",
        "\n",
        "from livelossplot import PlotLosses"
      ],
      "execution_count": 2,
      "outputs": []
    },
    {
      "cell_type": "code",
      "metadata": {
        "colab": {
          "base_uri": "https://localhost:8080/"
        },
        "id": "1Ov7s8D3a0U9",
        "outputId": "1eea53bb-2a5f-4fc7-853f-2be429926e42"
      },
      "source": [
        "from google.colab import drive\n",
        "drive.mount('/content/drive')"
      ],
      "execution_count": 3,
      "outputs": [
        {
          "output_type": "stream",
          "text": [
            "Mounted at /content/drive\n"
          ],
          "name": "stdout"
        }
      ]
    },
    {
      "cell_type": "code",
      "metadata": {
        "colab": {
          "base_uri": "https://localhost:8080/"
        },
        "id": "FQj-IGQaa1A0",
        "outputId": "bd1236eb-5340-464f-ba2c-15b83a98a63c"
      },
      "source": [
        "device = torch.device('cuda') if torch.cuda.is_available() else torch.device('cpu')\n",
        "print(device)"
      ],
      "execution_count": 4,
      "outputs": [
        {
          "output_type": "stream",
          "name": "stdout",
          "text": [
            "cuda\n"
          ]
        }
      ]
    },
    {
      "cell_type": "code",
      "metadata": {
        "id": "7YPv3x_UbDHl"
      },
      "source": [
        "# train_set = np.load('drive/MyDrive/EDVAM/train.npy')\n",
        "train_set = np.load('drive/MyDrive/EDVAM/train_slim.npy') # first 10 features\n",
        "train_label = np.load('drive/MyDrive/EDVAM/train_label.npy')\n",
        "\n",
        "# test_set = np.load('drive/MyDrive/EDVAM/test.npy')\n",
        "test_set = np.load('drive/MyDrive/EDVAM/test_slim.npy') # first 10 features \n",
        "test_label = np.load('drive/MyDrive/EDVAM/test_label.npy')"
      ],
      "execution_count": 24,
      "outputs": []
    },
    {
      "cell_type": "code",
      "metadata": {
        "colab": {
          "base_uri": "https://localhost:8080/"
        },
        "id": "pPQNFV9rbKpL",
        "outputId": "27d76357-be55-416f-dbb4-5dc3272a38a4"
      },
      "source": [
        "train_set.shape"
      ],
      "execution_count": 25,
      "outputs": [
        {
          "output_type": "execute_result",
          "data": {
            "text/plain": [
              "(190830, 300, 10)"
            ]
          },
          "metadata": {},
          "execution_count": 25
        }
      ]
    },
    {
      "cell_type": "code",
      "metadata": {
        "id": "KSET_rl7S-__"
      },
      "source": [
        "maxes = np.max([np.max(test_set, axis=0)[0], np.max(train_set, axis=0)[0]], axis=0)\n",
        "mins = np.min([np.min(test_set, axis=0)[0], np.min(train_set, axis=0)[0]], axis=0)\n",
        "\n",
        "min_max_range = maxes - mins"
      ],
      "execution_count": 26,
      "outputs": []
    },
    {
      "cell_type": "code",
      "metadata": {
        "id": "kwCR-hFiWgUQ"
      },
      "source": [
        "train_set = (train_set - mins) / min_max_range\n",
        "test_set = (test_set - mins) / min_max_range"
      ],
      "execution_count": 27,
      "outputs": []
    },
    {
      "cell_type": "code",
      "metadata": {
        "id": "uLBFk5DVc-Wt"
      },
      "source": [
        "time_samples = [i for i in range(0, 150, 6)] + [i for i in range(150, 240, 5)] + \\\n",
        "               [i for i in range(240, 290, 2)] + [i for i in range(290, 300)]\n",
        "features = [i for i in range(10)]\n",
        "\n",
        "# time_samples = [i for i in range(290,300)]\n",
        "features = [i for i in range(9)] # 9 exludes confidence"
      ],
      "execution_count": 28,
      "outputs": []
    },
    {
      "cell_type": "code",
      "metadata": {
        "id": "LUOfKP615YVO"
      },
      "source": [
        "end_confidences = np.mean(train_set[:, [i for i in range(290, 300)], 9], axis=1)\n",
        "confident_train = end_confidences > 0.7\n",
        "\n",
        "end_confidences = np.mean(test_set[:, [i for i in range(290, 300)], 9], axis=1)\n",
        "confident_test = end_confidences > 0.7"
      ],
      "execution_count": null,
      "outputs": []
    },
    {
      "cell_type": "code",
      "metadata": {
        "id": "lZb6YUTHhuQ4"
      },
      "source": [
        "def low_confidence_replacement(arr):\n",
        "  for i in range(arr.shape[0]): # do this way to avoid high ram use\n",
        "    arr_slice = arr[i]\n",
        "    arr_slice[(arr_slice[:, 9] < 0.7), 3:6] = np.nan\n",
        "    mask = np.isnan(arr_slice)\n",
        "    arr_slice[mask] = np.interp(np.flatnonzero(mask), np.flatnonzero(~mask), arr_slice[~mask])\n",
        "    arr[i] = arr_slice\n",
        "  return arr"
      ],
      "execution_count": 29,
      "outputs": []
    },
    {
      "cell_type": "code",
      "metadata": {
        "id": "9jo60dOvj0Qy"
      },
      "source": [
        "def low_confidence_filter(arr, labels):\n",
        "  end_confidences = np.mean(arr[:, [i for i in range(290, 300)], 9], axis=1)\n",
        "  return arr[end_confidences > 0.7], labels[end_confidences > 0.7]"
      ],
      "execution_count": 33,
      "outputs": []
    },
    {
      "cell_type": "code",
      "metadata": {
        "id": "zPDk9lxjiDMn"
      },
      "source": [
        "option = 'filter'\n",
        "if option == 'replacement':\n",
        "  train_set = low_confidence_replacement(train_set)\n",
        "  test_set = low_confidence_replacement(test_set)\n",
        "else:\n",
        "  train_set, train_label = low_confidence_filter(train_set, train_label)\n",
        "  test_set, test_label = low_confidence_filter(test_set, test_label)"
      ],
      "execution_count": 34,
      "outputs": []
    },
    {
      "cell_type": "code",
      "metadata": {
        "colab": {
          "base_uri": "https://localhost:8080/"
        },
        "id": "Hi53iE7_6V4q",
        "outputId": "b2c1077f-0b03-4edf-db71-dae0401683ca"
      },
      "source": [
        "print(train_set.shape, test_set.shape)"
      ],
      "execution_count": 35,
      "outputs": [
        {
          "output_type": "stream",
          "name": "stdout",
          "text": [
            "(71439, 300, 10) (8949, 300, 10)\n"
          ]
        }
      ]
    },
    {
      "cell_type": "code",
      "metadata": {
        "id": "DrfH-g2vfoBX"
      },
      "source": [
        "ds_train = torch.utils.data.TensorDataset(torch.Tensor(train_set[:, time_samples, :][:, :, features]),\\\n",
        "                                          torch.Tensor(train_label).type(torch.LongTensor))\n",
        "train_loader = torch.utils.data.DataLoader(ds_train, batch_size=128, shuffle=True)\n",
        "\n",
        "ds_test = torch.utils.data.TensorDataset(torch.Tensor(test_set[:, time_samples, :][:, :, features]),\\\n",
        "                                         torch.Tensor(test_label).type(torch.LongTensor))\n",
        "test_loader = torch.utils.data.DataLoader(ds_test, batch_size=128, shuffle=True)"
      ],
      "execution_count": 36,
      "outputs": []
    },
    {
      "cell_type": "code",
      "metadata": {
        "id": "s1TVW5x0JFJR"
      },
      "source": [
        "datasets = {'train': train_loader, 'val': test_loader}\n",
        "dataset_sizes = {'train': len(train_set), 'val': len(test_set)}"
      ],
      "execution_count": 37,
      "outputs": []
    },
    {
      "cell_type": "code",
      "metadata": {
        "id": "1oMDc7vfhFJt"
      },
      "source": [
        "class lstmNet(nn.Module):\n",
        "  def __init__(self, input_size=len(features), num_layers=3):\n",
        "    super().__init__()\n",
        "    self.lstm = nn.LSTM(input_size=input_size, hidden_size=20, num_layers=num_layers, batch_first=True, dropout=0.1)\n",
        "    self.fc1 = nn.Linear(20, 12)\n",
        "        \n",
        "  def forward(self, x):\n",
        "    x_, (h_n, c_n) = self.lstm(x)\n",
        "    x_ = (x_[:, -1, :])\n",
        "    x_ = self.fc1(x_)\n",
        "    return x_\n",
        "\n",
        "class gruNet(nn.Module):\n",
        "  def __init__(self, input_size=len(features), num_layers=3):\n",
        "    super().__init__()\n",
        "    self.gru = nn.GRU(input_size=input_size, hidden_size=20, num_layers=num_layers, batch_first=True)\n",
        "    self.fc1 = nn.Linear(20, 12)\n",
        "        \n",
        "  def forward(self, x):\n",
        "    x_, h_n = self.gru(x)\n",
        "    x_ = (x_[:, -1, :])\n",
        "    x_ = self.fc1(x_)\n",
        "    return x_\n",
        "  \n",
        "class convNet(nn.Module):\n",
        "  def __init__(self, input_shape=(len(time_samples), len(features))):\n",
        "    super().__init__()\n",
        "    self.input_shape = input_shape\n",
        "\n",
        "    self.layers = nn.Sequential(\n",
        "      nn.Conv1d(self.input_shape[0], 64, 3),\n",
        "      nn.ReLU(),\n",
        "      nn.Dropout(0.5),\n",
        "      nn.Conv1d(64, 64, 3),\n",
        "      nn.ReLU(),\n",
        "      nn.Dropout(0.5),\n",
        "      nn.MaxPool1d(2),\n",
        "      nn.Flatten(),\n",
        "      nn.Linear(192, 100),\n",
        "      nn.Dropout(0.5),\n",
        "      nn.ReLU(),\n",
        "      nn.Linear(100, 12),\n",
        "      # nn.Softmax()\n",
        "    )\n",
        "\n",
        "  def forward(self, x):\n",
        "    x = self.layers(x)\n",
        "    return x\n",
        "\n"
      ],
      "execution_count": 38,
      "outputs": []
    },
    {
      "cell_type": "code",
      "metadata": {
        "id": "sj1sPUGnkVKP"
      },
      "source": [
        "def train_model(model, criterion, optimizer, scheduler=None, num_epochs=10):\n",
        "  best_model_wts = model.state_dict()\n",
        "  best_acc = 0.0\n",
        "  best_epoch = 0\n",
        "\n",
        "  liveloss = PlotLosses()\n",
        "  model = model.to(device)\n",
        "\n",
        "  for epoch in range(num_epochs):\n",
        "    logs = {}\n",
        "    for phase in ['train', 'val']:\n",
        "      if phase == 'train':\n",
        "        model.train()\n",
        "      else:\n",
        "        model.eval()\n",
        "    \n",
        "      running_loss = 0.0\n",
        "      running_corrects = 0\n",
        "\n",
        "      for inputs, labels in datasets[phase]:\n",
        "        inputs = inputs.to(device)\n",
        "        labels = labels.to(device)\n",
        "\n",
        "        outputs = model(inputs)\n",
        "        loss = criterion(outputs, labels)\n",
        "\n",
        "        if phase == 'train':\n",
        "          optimizer.zero_grad()\n",
        "          loss.backward()\n",
        "          optimizer.step()\n",
        "        \n",
        "        _, preds = torch.max(outputs, 1)\n",
        "        running_loss += loss.detach() * inputs.size(0)\n",
        "        running_corrects += torch.sum(preds == labels.data)\n",
        "      \n",
        "      epoch_loss = running_loss / dataset_sizes[phase]\n",
        "      epoch_acc = running_corrects.float() / dataset_sizes[phase]\n",
        "\n",
        "      prefix = 'val_' if phase == 'val' else ''\n",
        "\n",
        "      logs[prefix + 'log loss'] = epoch_loss.item()\n",
        "      logs[prefix + 'accuracy'] = epoch_acc.item()\n",
        "\n",
        "      if phase == 'val' and epoch_acc > best_acc:\n",
        "          best_acc = epoch_acc\n",
        "          best_epoch = epoch\n",
        "          best_model_wts = model.state_dict()\n",
        "      \n",
        "      if phase == 'train' and scheduler:\n",
        "          scheduler.step()\n",
        "    \n",
        "    liveloss.update(logs)\n",
        "    liveloss.send()\n",
        "  \n",
        "  return best_model_wts"
      ],
      "execution_count": 39,
      "outputs": []
    },
    {
      "cell_type": "code",
      "metadata": {
        "id": "gEv4KZ-r8JUr"
      },
      "source": [
        "model = lstmNet()\n",
        "criterion = nn.CrossEntropyLoss()\n",
        "optimizer = optim.SGD(model.parameters(), lr=0.1)\n",
        "# optimizer = optim.Adam(model.parameters(), lr=0.001)\n",
        "scheduler = lr_scheduler.StepLR(optimizer, step_size=30, gamma=0.1)"
      ],
      "execution_count": 41,
      "outputs": []
    },
    {
      "cell_type": "code",
      "metadata": {
        "id": "ic0f4H8b8W1x",
        "colab": {
          "base_uri": "https://localhost:8080/",
          "height": 687
        },
        "outputId": "35e40bd1-4751-4805-94b0-fcc7626cf82b"
      },
      "source": [
        "best_model = train_model(model, criterion, optimizer, scheduler, 100)"
      ],
      "execution_count": 42,
      "outputs": [
        {
          "output_type": "display_data",
          "data": {
            "image/png": "[encoded data removed]",
            "text/plain": [
              "<Figure size 864x576 with 2 Axes>"
            ]
          },
          "metadata": {
            "needs_background": "light"
          }
        },
        {
          "output_type": "stream",
          "name": "stdout",
          "text": [
            "accuracy\n",
            "\ttraining         \t (min:    0.287, max:    0.823, cur:    0.823)\n",
            "\tvalidation       \t (min:    0.348, max:    0.831, cur:    0.809)\n",
            "log loss\n",
            "\ttraining         \t (min:    0.508, max:    2.071, cur:    0.509)\n",
            "\tvalidation       \t (min:    0.561, max:    2.060, cur:    0.612)\n"
          ]
        }
      ]
    },
    {
      "cell_type": "code",
      "metadata": {
        "id": "5xjqOmwCrLi0"
      },
      "source": [
        ""
      ],
      "execution_count": null,
      "outputs": []
    }
  ]
}