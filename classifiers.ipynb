{
  "nbformat": 4,
  "nbformat_minor": 0,
  "metadata": {
    "colab": {
      "name": "classifiers.ipynb",
      "provenance": [],
      "collapsed_sections": []
    },
    "kernelspec": {
      "name": "python3",
      "display_name": "Python 3"
    },
    "language_info": {
      "name": "python"
    },
    "accelerator": "GPU"
  },
  "cells": [
    {
      "cell_type": "code",
      "metadata": {
        "id": "K6BIYuB53lKo"
      },
      "source": [
        "!pip install livelossplot --quiet"
      ],
      "execution_count": 1,
      "outputs": []
    },
    {
      "cell_type": "code",
      "metadata": {
        "id": "_aZW3ME5Xyar"
      },
      "source": [
        "import numpy as np\n",
        "import torch\n",
        "from torch.utils.data import Dataset\n",
        "import torch.nn as nn\n",
        "import torch.nn.functional as F\n",
        "import torch.optim as optim\n",
        "from torch.optim import lr_scheduler\n",
        "\n",
        "from livelossplot import PlotLosses"
      ],
      "execution_count": 2,
      "outputs": []
    },
    {
      "cell_type": "code",
      "metadata": {
        "colab": {
          "base_uri": "https://localhost:8080/"
        },
        "id": "1Ov7s8D3a0U9",
        "outputId": "5508bcfb-8dc5-454b-d9c1-b77d0a6c1b7d"
      },
      "source": [
        "from google.colab import drive\n",
        "drive.mount('/content/drive')"
      ],
      "execution_count": 3,
      "outputs": [
        {
          "output_type": "stream",
          "text": [
            "Mounted at /content/drive\n"
          ],
          "name": "stdout"
        }
      ]
    },
    {
      "cell_type": "code",
      "metadata": {
        "colab": {
          "base_uri": "https://localhost:8080/"
        },
        "id": "FQj-IGQaa1A0",
        "outputId": "96261610-0fee-466e-8790-c31aea57f482"
      },
      "source": [
        "device = torch.device('cuda') if torch.cuda.is_available() else torch.device('cpu')\n",
        "print(device)"
      ],
      "execution_count": 174,
      "outputs": [
        {
          "output_type": "stream",
          "text": [
            "cuda\n"
          ],
          "name": "stdout"
        }
      ]
    },
    {
      "cell_type": "code",
      "metadata": {
        "id": "7YPv3x_UbDHl"
      },
      "source": [
        "# train_set = np.load('drive/MyDrive/EDVAM/train.npy')\n",
        "train_set = np.load('drive/MyDrive/EDVAM/train_slim.npy') # first 10 features\n",
        "train_label = np.load('drive/MyDrive/EDVAM/train_label.npy')\n",
        "\n",
        "# test_set = np.load('drive/MyDrive/EDVAM/test.npy')\n",
        "test_set = np.load('drive/MyDrive/EDVAM/test_slim.npy') # first 10 features \n",
        "test_label = np.load('drive/MyDrive/EDVAM/test_label.npy')"
      ],
      "execution_count": 5,
      "outputs": []
    },
    {
      "cell_type": "code",
      "metadata": {
        "colab": {
          "base_uri": "https://localhost:8080/"
        },
        "id": "pPQNFV9rbKpL",
        "outputId": "131a6119-70d8-4397-b2ba-eb6d9d545d92"
      },
      "source": [
        "train_set.shape"
      ],
      "execution_count": 6,
      "outputs": [
        {
          "output_type": "execute_result",
          "data": {
            "text/plain": [
              "(190830, 300, 10)"
            ]
          },
          "metadata": {},
          "execution_count": 6
        }
      ]
    },
    {
      "cell_type": "code",
      "metadata": {
        "id": "KSET_rl7S-__"
      },
      "source": [
        "maxes = np.max([np.max(test_set, axis=0)[0], np.max(train_set, axis=0)[0]], axis=0)\n",
        "mins = np.min([np.min(test_set, axis=0)[0], np.min(train_set, axis=0)[0]], axis=0)\n",
        "\n",
        "min_max_range = maxes - mins"
      ],
      "execution_count": 7,
      "outputs": []
    },
    {
      "cell_type": "code",
      "metadata": {
        "id": "kwCR-hFiWgUQ"
      },
      "source": [
        "train_set = (train_set - mins) / min_max_range\n",
        "test_set = (test_set - mins) / min_max_range"
      ],
      "execution_count": 8,
      "outputs": []
    },
    {
      "cell_type": "code",
      "metadata": {
        "id": "uLBFk5DVc-Wt"
      },
      "source": [
        "time_samples = [i for i in range(0, 150, 6)] + [i for i in range(150, 240, 5)] + \\\n",
        "               [i for i in range(240, 290, 2)] + [i for i in range(290, 300)]\n",
        "features = [i for i in range(10)]\n",
        "\n",
        "# time_samples = [i for i in range(290,300)]\n",
        "features = [i for i in range(6)]"
      ],
      "execution_count": 110,
      "outputs": []
    },
    {
      "cell_type": "code",
      "metadata": {
        "colab": {
          "base_uri": "https://localhost:8080/"
        },
        "id": "-5qEYLAGu3yR",
        "outputId": "9ef22196-5a46-4c37-96d7-413b66d435a9"
      },
      "source": [
        "len(time_samples)"
      ],
      "execution_count": 113,
      "outputs": [
        {
          "output_type": "execute_result",
          "data": {
            "text/plain": [
              "78"
            ]
          },
          "metadata": {},
          "execution_count": 113
        }
      ]
    },
    {
      "cell_type": "code",
      "metadata": {
        "id": "DrfH-g2vfoBX"
      },
      "source": [
        "ds_train = torch.utils.data.TensorDataset(torch.Tensor(train_set[:, time_samples, :][:, :, features]),\\\n",
        "                                          torch.Tensor(train_label).type(torch.LongTensor))\n",
        "train_loader = torch.utils.data.DataLoader(ds_train, batch_size=128, shuffle=True)\n",
        "\n",
        "ds_test = torch.utils.data.TensorDataset(torch.Tensor(test_set[:, time_samples, :][:, :, features]),\\\n",
        "                                         torch.Tensor(test_label).type(torch.LongTensor))\n",
        "test_loader = torch.utils.data.DataLoader(ds_test, batch_size=128, shuffle=True)"
      ],
      "execution_count": 111,
      "outputs": []
    },
    {
      "cell_type": "code",
      "metadata": {
        "id": "s1TVW5x0JFJR"
      },
      "source": [
        "datasets = {'train': train_loader, 'val': test_loader}\n",
        "dataset_sizes = {'train': len(train_set), 'val': len(test_set)}"
      ],
      "execution_count": 112,
      "outputs": []
    },
    {
      "cell_type": "code",
      "metadata": {
        "id": "1oMDc7vfhFJt"
      },
      "source": [
        "class lstmNet(nn.Module):\n",
        "  def __init__(self, input_size=len(features), num_layers=3):\n",
        "    super().__init__()\n",
        "    self.lstm = nn.LSTM(input_size=input_size, hidden_size=20, num_layers=num_layers, batch_first=True, dropout=0.4)\n",
        "    self.fc1 = nn.Linear(20, 12)\n",
        "        \n",
        "  def forward(self, x):\n",
        "    x_, (h_n, c_n) = self.lstm(x)\n",
        "    x_ = (x_[:, -1, :])\n",
        "    x_ = self.fc1(x_)\n",
        "    return x_\n",
        "\n",
        "class gruNet(nn.Module):\n",
        "  def __init__(self, input_size=len(features), num_layers=3):\n",
        "    super().__init__()\n",
        "    self.gru = nn.GRU(input_size=input_size, hidden_size=20, num_layers=num_layers, batch_first=True)\n",
        "    self.fc1 = nn.Linear(20, 12)\n",
        "        \n",
        "  def forward(self, x):\n",
        "    x_, h_n = self.gru(x)\n",
        "    x_ = (x_[:, -1, :])\n",
        "    x_ = self.fc1(x_)\n",
        "    return x_\n",
        "  \n",
        "class convNet(nn.Module):\n",
        "  def __init__(self, input_shape=(len(time_samples), len(features))):\n",
        "    super().__init__()\n",
        "    self.input_shape = input_shape\n",
        "\n",
        "    self.layers = nn.Sequential(\n",
        "      nn.Conv1d(self.input_shape[0], 64, 3),\n",
        "      nn.ReLU(),\n",
        "      nn.Dropout(0.5),\n",
        "      nn.Conv1d(64, 64, 3),\n",
        "      nn.ReLU(),\n",
        "      nn.Dropout(0.5),\n",
        "      nn.MaxPool1d(2),\n",
        "      nn.Flatten(),\n",
        "      nn.Linear(192, 100),\n",
        "      nn.Dropout(0.5),\n",
        "      nn.ReLU(),\n",
        "      nn.Linear(100, 12),\n",
        "      # nn.Softmax()\n",
        "    )\n",
        "\n",
        "  def forward(self, x):\n",
        "    x = self.layers(x)\n",
        "    return x\n",
        "\n"
      ],
      "execution_count": 176,
      "outputs": []
    },
    {
      "cell_type": "code",
      "metadata": {
        "id": "sj1sPUGnkVKP"
      },
      "source": [
        "def train_model(model, criterion, optimizer, scheduler=None, num_epochs=10):\n",
        "  best_model_wts = model.state_dict()\n",
        "  best_acc = 0.0\n",
        "  best_epoch = 0\n",
        "\n",
        "  liveloss = PlotLosses()\n",
        "  model = model.to(device)\n",
        "\n",
        "  for epoch in range(num_epochs):\n",
        "    logs = {}\n",
        "    for phase in ['train', 'val']:\n",
        "      if phase == 'train':\n",
        "        model.train()\n",
        "      else:\n",
        "        model.eval()\n",
        "    \n",
        "      running_loss = 0.0\n",
        "      running_corrects = 0\n",
        "\n",
        "      for inputs, labels in datasets[phase]:\n",
        "        inputs = inputs.to(device)\n",
        "        labels = labels.to(device)\n",
        "\n",
        "        outputs = model(inputs)\n",
        "        loss = criterion(outputs, labels)\n",
        "\n",
        "        if phase == 'train':\n",
        "          optimizer.zero_grad()\n",
        "          loss.backward()\n",
        "          optimizer.step()\n",
        "        \n",
        "        _, preds = torch.max(outputs, 1)\n",
        "        running_loss += loss.detach() * inputs.size(0)\n",
        "        running_corrects += torch.sum(preds == labels.data)\n",
        "      \n",
        "      epoch_loss = running_loss / dataset_sizes[phase]\n",
        "      epoch_acc = running_corrects.float() / dataset_sizes[phase]\n",
        "\n",
        "      prefix = 'val_' if phase == 'val' else ''\n",
        "\n",
        "      logs[prefix + 'log loss'] = epoch_loss.item()\n",
        "      logs[prefix + 'accuracy'] = epoch_acc.item()\n",
        "\n",
        "      if phase == 'val' and epoch_acc > best_acc:\n",
        "          best_acc = epoch_acc\n",
        "          best_epoch = epoch\n",
        "          best_model_wts = model.state_dict()\n",
        "      \n",
        "      if phase == 'train' and scheduler:\n",
        "          scheduler.step()\n",
        "    \n",
        "    liveloss.update(logs)\n",
        "    liveloss.send()\n",
        "  \n",
        "  return best_model_wts"
      ],
      "execution_count": 177,
      "outputs": []
    },
    {
      "cell_type": "code",
      "metadata": {
        "id": "gEv4KZ-r8JUr"
      },
      "source": [
        "model = lstmNet()\n",
        "criterion = nn.CrossEntropyLoss()\n",
        "# optimizer = optim.SGD(model.parameters(), lr=0.1)\n",
        "optimizer = optim.Adam(model.parameters(), lr=0.001)\n",
        "scheduler = lr_scheduler.StepLR(optimizer, step_size=15, gamma=0.1)"
      ],
      "execution_count": 178,
      "outputs": []
    },
    {
      "cell_type": "code",
      "metadata": {
        "id": "ic0f4H8b8W1x",
        "colab": {
          "base_uri": "https://localhost:8080/",
          "height": 953
        },
        "outputId": "9b89dd12-4252-4c96-cadc-6d4474147b71"
      },
      "source": [
        "best_model = train_model(model, criterion, optimizer, scheduler, 40)"
      ],
      "execution_count": 179,
      "outputs": [
        {
          "output_type": "display_data",
          "data": {
            "image/png": "[encoded data removed]",
            "text/plain": [
              "<Figure size 864x576 with 2 Axes>"
            ]
          },
          "metadata": {
            "needs_background": "light"
          }
        },
        {
          "output_type": "stream",
          "text": [
            "accuracy\n",
            "\ttraining         \t (min:    0.553, max:    0.759, cur:    0.759)\n",
            "\tvalidation       \t (min:    0.704, max:    0.741, cur:    0.730)\n",
            "log loss\n",
            "\ttraining         \t (min:    0.741, max:    1.344, cur:    0.741)\n",
            "\tvalidation       \t (min:    0.878, max:    1.011, cur:    0.947)\n"
          ],
          "name": "stdout"
        },
        {
          "output_type": "error",
          "ename": "KeyboardInterrupt",
          "evalue": "ignored",
          "traceback": [
            "\u001b[0;31m---------------------------------------------------------------------------\u001b[0m",
            "\u001b[0;31mKeyboardInterrupt\u001b[0m                         Traceback (most recent call last)",
            "\u001b[0;32m<ipython-input-179-de7f1a8a3863>\u001b[0m in \u001b[0;36m<module>\u001b[0;34m()\u001b[0m\n\u001b[0;32m----> 1\u001b[0;31m \u001b[0mbest_model\u001b[0m \u001b[0;34m=\u001b[0m \u001b[0mtrain_model\u001b[0m\u001b[0;34m(\u001b[0m\u001b[0mmodel\u001b[0m\u001b[0;34m,\u001b[0m \u001b[0mcriterion\u001b[0m\u001b[0;34m,\u001b[0m \u001b[0moptimizer\u001b[0m\u001b[0;34m,\u001b[0m \u001b[0mscheduler\u001b[0m\u001b[0;34m,\u001b[0m \u001b[0;36m40\u001b[0m\u001b[0;34m)\u001b[0m\u001b[0;34m\u001b[0m\u001b[0;34m\u001b[0m\u001b[0m\n\u001b[0m",
            "\u001b[0;32m<ipython-input-177-74d2151e324e>\u001b[0m in \u001b[0;36mtrain_model\u001b[0;34m(model, criterion, optimizer, scheduler, num_epochs)\u001b[0m\n\u001b[1;32m     19\u001b[0m \u001b[0;34m\u001b[0m\u001b[0m\n\u001b[1;32m     20\u001b[0m       \u001b[0;32mfor\u001b[0m \u001b[0minputs\u001b[0m\u001b[0;34m,\u001b[0m \u001b[0mlabels\u001b[0m \u001b[0;32min\u001b[0m \u001b[0mdatasets\u001b[0m\u001b[0;34m[\u001b[0m\u001b[0mphase\u001b[0m\u001b[0;34m]\u001b[0m\u001b[0;34m:\u001b[0m\u001b[0;34m\u001b[0m\u001b[0;34m\u001b[0m\u001b[0m\n\u001b[0;32m---> 21\u001b[0;31m         \u001b[0minputs\u001b[0m \u001b[0;34m=\u001b[0m \u001b[0minputs\u001b[0m\u001b[0;34m.\u001b[0m\u001b[0mto\u001b[0m\u001b[0;34m(\u001b[0m\u001b[0mdevice\u001b[0m\u001b[0;34m)\u001b[0m\u001b[0;34m\u001b[0m\u001b[0;34m\u001b[0m\u001b[0m\n\u001b[0m\u001b[1;32m     22\u001b[0m         \u001b[0mlabels\u001b[0m \u001b[0;34m=\u001b[0m \u001b[0mlabels\u001b[0m\u001b[0;34m.\u001b[0m\u001b[0mto\u001b[0m\u001b[0;34m(\u001b[0m\u001b[0mdevice\u001b[0m\u001b[0;34m)\u001b[0m\u001b[0;34m\u001b[0m\u001b[0;34m\u001b[0m\u001b[0m\n\u001b[1;32m     23\u001b[0m \u001b[0;34m\u001b[0m\u001b[0m\n",
            "\u001b[0;31mKeyboardInterrupt\u001b[0m: "
          ]
        }
      ]
    },
    {
      "cell_type": "code",
      "metadata": {
        "id": "5xjqOmwCrLi0"
      },
      "source": [
        ""
      ],
      "execution_count": null,
      "outputs": []
    }
  ]
}